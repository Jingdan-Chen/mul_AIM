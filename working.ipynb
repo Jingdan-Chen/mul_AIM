{
 "cells": [
  {
   "cell_type": "code",
   "execution_count": null,
   "metadata": {},
   "outputs": [],
   "source": [
    "import numpy as np"
   ]
  },
  {
   "cell_type": "code",
   "execution_count": null,
   "metadata": {},
   "outputs": [],
   "source": [
    "with open(\"cps.xyz\",\"r\") as f:\n",
    "    cps_cont = f.readlines()\n",
    "cps_cont = list(map(lambda a:a.strip(\"\\n\").strip().split(),cps_cont))"
   ]
  },
  {
   "cell_type": "code",
   "execution_count": null,
   "metadata": {},
   "outputs": [],
   "source": [
    "with open(\"mol.xyz\",\"r\") as f:\n",
    "    mol_xyz = f.readlines()\n",
    "mol_xyz = list(map(lambda a:a.strip(\"\\n\").strip().split(),mol_xyz))[2:]"
   ]
  },
  {
   "cell_type": "code",
   "execution_count": null,
   "metadata": {},
   "outputs": [],
   "source": [
    "mol_xyz_dict = dict()\n",
    "for i in range(len(mol_xyz)):\n",
    "    mol_xyz_dict[i+1] = np.array(list(map(float,mol_xyz[i][1:])))"
   ]
  },
  {
   "cell_type": "code",
   "execution_count": null,
   "metadata": {},
   "outputs": [],
   "source": [
    "cps_xyz_dict = dict()\n",
    "for i in range(len(cps_cont)):\n",
    "    cps_xyz_dict[i+1] = np.array(list(map(float,cps_cont[i][1:-1])))*0.529177249"
   ]
  },
  {
   "cell_type": "code",
   "execution_count": null,
   "metadata": {},
   "outputs": [],
   "source": [
    "def compute(xyz1,xyz2,xyz3,threshold):\n",
    "    vec1 = xyz2-xyz1\n",
    "    vec2 = xyz2-xyz3\n",
    "    res = np.dot(vec1,vec2)/(np.linalg.norm(vec1)*np.linalg.norm(vec2))\n",
    "    #print(res)\n",
    "    if  res< threshold:\n",
    "        return True\n",
    "    return False\n",
    "\n",
    "def find(atom1,atom2,threshold=-0.9):\n",
    "    for cps in cps_xyz_dict.keys():\n",
    "        if compute(mol_xyz_dict[atom1],cps_xyz_dict[cps],mol_xyz_dict[atom2],threshold):\n",
    "            print(cps_cont[cps-1])\n",
    "            return\n",
    "    print(\"No Found!\")\n",
    "    return\n"
   ]
  },
  {
   "cell_type": "code",
   "execution_count": null,
   "metadata": {},
   "outputs": [],
   "source": [
    "find(36,9,threshold=-0.95)"
   ]
  },
  {
   "cell_type": "code",
   "execution_count": null,
   "metadata": {},
   "outputs": [],
   "source": []
  }
 ],
 "metadata": {
  "kernelspec": {
   "display_name": "Python 3.7.12 ('normal')",
   "language": "python",
   "name": "python3"
  },
  "language_info": {
   "codemirror_mode": {
    "name": "ipython",
    "version": 3
   },
   "file_extension": ".py",
   "mimetype": "text/x-python",
   "name": "python",
   "nbconvert_exporter": "python",
   "pygments_lexer": "ipython3",
   "version": "3.7.12"
  },
  "orig_nbformat": 4,
  "vscode": {
   "interpreter": {
    "hash": "b1e0d4bbcc78cccee12c2fa80dea09c14f3931aabbd58b949abf6d2f2b5c7c3d"
   }
  }
 },
 "nbformat": 4,
 "nbformat_minor": 2
}
